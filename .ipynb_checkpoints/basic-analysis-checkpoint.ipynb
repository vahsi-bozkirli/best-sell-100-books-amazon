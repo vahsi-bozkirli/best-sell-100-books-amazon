{
 "cells": [
  {
   "cell_type": "code",
   "execution_count": 1,
   "id": "5abe3505-f292-400e-a7d3-c2a4678cacdf",
   "metadata": {},
   "outputs": [],
   "source": [
    "import pandas as pd\n",
    "import numpy as np\n",
    "import matplotlib.pyplot as plt"
   ]
  },
  {
   "cell_type": "code",
   "execution_count": 2,
   "id": "470d80d5-6052-41c9-bbd4-e574e58988b7",
   "metadata": {},
   "outputs": [],
   "source": [
    "top_books = pd.read_csv(\"Top-100 Trending Books.csv\")\n",
    "custrew = pd.read_csv(\"customer reviews.csv\")"
   ]
  },
  {
   "cell_type": "code",
   "execution_count": 6,
   "id": "c3fc1bc4-5822-43a7-8c53-b7f0b1d9c744",
   "metadata": {},
   "outputs": [
    {
     "data": {
      "text/html": [
       "<div>\n",
       "<style scoped>\n",
       "    .dataframe tbody tr th:only-of-type {\n",
       "        vertical-align: middle;\n",
       "    }\n",
       "\n",
       "    .dataframe tbody tr th {\n",
       "        vertical-align: top;\n",
       "    }\n",
       "\n",
       "    .dataframe thead th {\n",
       "        text-align: right;\n",
       "    }\n",
       "</style>\n",
       "<table border=\"1\" class=\"dataframe\">\n",
       "  <thead>\n",
       "    <tr style=\"text-align: right;\">\n",
       "      <th></th>\n",
       "      <th>book title</th>\n",
       "      <th>book price</th>\n",
       "      <th>rating</th>\n",
       "      <th>author</th>\n",
       "      <th>year of publication</th>\n",
       "      <th>genre</th>\n",
       "      <th>url</th>\n",
       "    </tr>\n",
       "    <tr>\n",
       "      <th>Rank</th>\n",
       "      <th></th>\n",
       "      <th></th>\n",
       "      <th></th>\n",
       "      <th></th>\n",
       "      <th></th>\n",
       "      <th></th>\n",
       "      <th></th>\n",
       "    </tr>\n",
       "  </thead>\n",
       "  <tbody>\n",
       "    <tr>\n",
       "      <th>1</th>\n",
       "      <td>Iron Flame (The Empyrean, 2)</td>\n",
       "      <td>18.42</td>\n",
       "      <td>4.1</td>\n",
       "      <td>Rebecca Yarros</td>\n",
       "      <td>2023</td>\n",
       "      <td>Fantasy Romance</td>\n",
       "      <td>amazon.com/Iron-Flame-Empyrean-Rebecca-Yarros/...</td>\n",
       "    </tr>\n",
       "    <tr>\n",
       "      <th>2</th>\n",
       "      <td>The Woman in Me</td>\n",
       "      <td>20.93</td>\n",
       "      <td>4.5</td>\n",
       "      <td>Britney Spears</td>\n",
       "      <td>2023</td>\n",
       "      <td>Memoir</td>\n",
       "      <td>amazon.com/Woman-Me-Britney-Spears/dp/16680090...</td>\n",
       "    </tr>\n",
       "    <tr>\n",
       "      <th>3</th>\n",
       "      <td>My Name Is Barbra</td>\n",
       "      <td>31.50</td>\n",
       "      <td>4.5</td>\n",
       "      <td>Barbra Streisand</td>\n",
       "      <td>2023</td>\n",
       "      <td>Autobiography</td>\n",
       "      <td>amazon.com/My-Name-Barbra-Streisand/dp/0525429...</td>\n",
       "    </tr>\n",
       "    <tr>\n",
       "      <th>4</th>\n",
       "      <td>Friends, Lovers, and the Big Terrible Thing: A...</td>\n",
       "      <td>23.99</td>\n",
       "      <td>4.4</td>\n",
       "      <td>Matthew Perry</td>\n",
       "      <td>2023</td>\n",
       "      <td>Memoir</td>\n",
       "      <td>amazon.com/Friends-Lovers-Big-Terrible-Thing/d...</td>\n",
       "    </tr>\n",
       "    <tr>\n",
       "      <th>5</th>\n",
       "      <td>How to Catch a Turkey</td>\n",
       "      <td>5.65</td>\n",
       "      <td>4.8</td>\n",
       "      <td>Adam Wallace</td>\n",
       "      <td>2018</td>\n",
       "      <td>Childrens, Fiction</td>\n",
       "      <td>amazon.com/How-Catch-Turkey-Adam-Wallace/dp/14...</td>\n",
       "    </tr>\n",
       "  </tbody>\n",
       "</table>\n",
       "</div>"
      ],
      "text/plain": [
       "                                             book title  book price  rating  \\\n",
       "Rank                                                                          \n",
       "1                          Iron Flame (The Empyrean, 2)       18.42     4.1   \n",
       "2                                       The Woman in Me       20.93     4.5   \n",
       "3                                     My Name Is Barbra       31.50     4.5   \n",
       "4     Friends, Lovers, and the Big Terrible Thing: A...       23.99     4.4   \n",
       "5                                 How to Catch a Turkey        5.65     4.8   \n",
       "\n",
       "                author  year of publication               genre  \\\n",
       "Rank                                                              \n",
       "1       Rebecca Yarros                 2023     Fantasy Romance   \n",
       "2       Britney Spears                 2023              Memoir   \n",
       "3     Barbra Streisand                 2023       Autobiography   \n",
       "4        Matthew Perry                 2023              Memoir   \n",
       "5         Adam Wallace                 2018  Childrens, Fiction   \n",
       "\n",
       "                                                    url  \n",
       "Rank                                                     \n",
       "1     amazon.com/Iron-Flame-Empyrean-Rebecca-Yarros/...  \n",
       "2     amazon.com/Woman-Me-Britney-Spears/dp/16680090...  \n",
       "3     amazon.com/My-Name-Barbra-Streisand/dp/0525429...  \n",
       "4     amazon.com/Friends-Lovers-Big-Terrible-Thing/d...  \n",
       "5     amazon.com/How-Catch-Turkey-Adam-Wallace/dp/14...  "
      ]
     },
     "execution_count": 6,
     "metadata": {},
     "output_type": "execute_result"
    }
   ],
   "source": [
    "top_books.head()"
   ]
  },
  {
   "cell_type": "code",
   "execution_count": 7,
   "id": "32d93f2f-4c8a-49ff-a446-50eda9697f9d",
   "metadata": {},
   "outputs": [
    {
     "data": {
      "text/html": [
       "<div>\n",
       "<style scoped>\n",
       "    .dataframe tbody tr th:only-of-type {\n",
       "        vertical-align: middle;\n",
       "    }\n",
       "\n",
       "    .dataframe tbody tr th {\n",
       "        vertical-align: top;\n",
       "    }\n",
       "\n",
       "    .dataframe thead th {\n",
       "        text-align: right;\n",
       "    }\n",
       "</style>\n",
       "<table border=\"1\" class=\"dataframe\">\n",
       "  <thead>\n",
       "    <tr style=\"text-align: right;\">\n",
       "      <th></th>\n",
       "      <th>book name</th>\n",
       "      <th>review title</th>\n",
       "      <th>reviewer</th>\n",
       "      <th>reviewer rating</th>\n",
       "      <th>review description</th>\n",
       "      <th>is_verified</th>\n",
       "      <th>date</th>\n",
       "      <th>timestamp</th>\n",
       "      <th>ASIN</th>\n",
       "    </tr>\n",
       "  </thead>\n",
       "  <tbody>\n",
       "    <tr>\n",
       "      <th>0</th>\n",
       "      <td>The Woman in Me</td>\n",
       "      <td>Unbelievably impressive. Her torn life on paper.</td>\n",
       "      <td>Murderess Marbie</td>\n",
       "      <td>4</td>\n",
       "      <td>I'm only a third way in. Shipped lightening fa...</td>\n",
       "      <td>True</td>\n",
       "      <td>26-10-2023</td>\n",
       "      <td>Reviewed in the United States October 26, 2023</td>\n",
       "      <td>1668009048</td>\n",
       "    </tr>\n",
       "    <tr>\n",
       "      <th>1</th>\n",
       "      <td>The Woman in Me</td>\n",
       "      <td>What a heartbreaking story</td>\n",
       "      <td>L J</td>\n",
       "      <td>5</td>\n",
       "      <td>\"There have been so many times when I was scar...</td>\n",
       "      <td>True</td>\n",
       "      <td>06-11-2023</td>\n",
       "      <td>Reviewed in the United States November 6, 2023</td>\n",
       "      <td>1668009048</td>\n",
       "    </tr>\n",
       "    <tr>\n",
       "      <th>2</th>\n",
       "      <td>The Woman in Me</td>\n",
       "      <td>Britney you are so invincible! You are an insp...</td>\n",
       "      <td>Jamie</td>\n",
       "      <td>5</td>\n",
       "      <td>The media could not be loaded. I personally ha...</td>\n",
       "      <td>True</td>\n",
       "      <td>01-11-2023</td>\n",
       "      <td>Reviewed in the United States November 1, 2023</td>\n",
       "      <td>1668009048</td>\n",
       "    </tr>\n",
       "    <tr>\n",
       "      <th>3</th>\n",
       "      <td>The Woman in Me</td>\n",
       "      <td>Fast Read, Sad Story</td>\n",
       "      <td>KMG</td>\n",
       "      <td>5</td>\n",
       "      <td>I have been a fan of Britney's music since the...</td>\n",
       "      <td>True</td>\n",
       "      <td>25-10-2023</td>\n",
       "      <td>Reviewed in the United States October 25, 2023</td>\n",
       "      <td>1668009048</td>\n",
       "    </tr>\n",
       "    <tr>\n",
       "      <th>4</th>\n",
       "      <td>The Woman in Me</td>\n",
       "      <td>Buy it, it’s worth the read!</td>\n",
       "      <td>Stephanie Brown</td>\n",
       "      <td>5</td>\n",
       "      <td>Whether or not you’re a fan, it’s a great read...</td>\n",
       "      <td>True</td>\n",
       "      <td>01-11-2023</td>\n",
       "      <td>Reviewed in the United States November 1, 2023</td>\n",
       "      <td>1668009048</td>\n",
       "    </tr>\n",
       "  </tbody>\n",
       "</table>\n",
       "</div>"
      ],
      "text/plain": [
       "         book name                                       review title  \\\n",
       "0  The Woman in Me   Unbelievably impressive. Her torn life on paper.   \n",
       "1  The Woman in Me                         What a heartbreaking story   \n",
       "2  The Woman in Me  Britney you are so invincible! You are an insp...   \n",
       "3  The Woman in Me                               Fast Read, Sad Story   \n",
       "4  The Woman in Me                       Buy it, it’s worth the read!   \n",
       "\n",
       "           reviewer  reviewer rating  \\\n",
       "0  Murderess Marbie                4   \n",
       "1               L J                5   \n",
       "2             Jamie                5   \n",
       "3               KMG                5   \n",
       "4   Stephanie Brown                5   \n",
       "\n",
       "                                  review description  is_verified        date  \\\n",
       "0  I'm only a third way in. Shipped lightening fa...         True  26-10-2023   \n",
       "1  \"There have been so many times when I was scar...         True  06-11-2023   \n",
       "2  The media could not be loaded. I personally ha...         True  01-11-2023   \n",
       "3  I have been a fan of Britney's music since the...         True  25-10-2023   \n",
       "4  Whether or not you’re a fan, it’s a great read...         True  01-11-2023   \n",
       "\n",
       "                                        timestamp        ASIN  \n",
       "0  Reviewed in the United States October 26, 2023  1668009048  \n",
       "1  Reviewed in the United States November 6, 2023  1668009048  \n",
       "2  Reviewed in the United States November 1, 2023  1668009048  \n",
       "3  Reviewed in the United States October 25, 2023  1668009048  \n",
       "4  Reviewed in the United States November 1, 2023  1668009048  "
      ]
     },
     "execution_count": 7,
     "metadata": {},
     "output_type": "execute_result"
    }
   ],
   "source": [
    "custrew.head()"
   ]
  },
  {
   "cell_type": "code",
   "execution_count": 5,
   "id": "65144865-8fb0-4fd1-b49f-663c2d90dcc1",
   "metadata": {},
   "outputs": [],
   "source": [
    "top_books.set_index(\"Rank\",inplace=True)\n",
    "custrew.drop(\"Sno\",axis=1,inplace=True)"
   ]
  },
  {
   "cell_type": "code",
   "execution_count": 8,
   "id": "037a6b90-1fe2-4264-b46b-0acbe80632d9",
   "metadata": {},
   "outputs": [
    {
     "data": {
      "text/html": [
       "<div>\n",
       "<style scoped>\n",
       "    .dataframe tbody tr th:only-of-type {\n",
       "        vertical-align: middle;\n",
       "    }\n",
       "\n",
       "    .dataframe tbody tr th {\n",
       "        vertical-align: top;\n",
       "    }\n",
       "\n",
       "    .dataframe thead th {\n",
       "        text-align: right;\n",
       "    }\n",
       "</style>\n",
       "<table border=\"1\" class=\"dataframe\">\n",
       "  <thead>\n",
       "    <tr style=\"text-align: right;\">\n",
       "      <th></th>\n",
       "      <th>count</th>\n",
       "      <th>mean</th>\n",
       "      <th>std</th>\n",
       "      <th>min</th>\n",
       "      <th>25%</th>\n",
       "      <th>50%</th>\n",
       "      <th>75%</th>\n",
       "      <th>max</th>\n",
       "    </tr>\n",
       "  </thead>\n",
       "  <tbody>\n",
       "    <tr>\n",
       "      <th>book price</th>\n",
       "      <td>100.0</td>\n",
       "      <td>12.708600</td>\n",
       "      <td>7.915568</td>\n",
       "      <td>2.78</td>\n",
       "      <td>6.3025</td>\n",
       "      <td>11.48</td>\n",
       "      <td>16.99</td>\n",
       "      <td>48.77</td>\n",
       "    </tr>\n",
       "    <tr>\n",
       "      <th>rating</th>\n",
       "      <td>97.0</td>\n",
       "      <td>4.689691</td>\n",
       "      <td>0.181133</td>\n",
       "      <td>4.10</td>\n",
       "      <td>4.6000</td>\n",
       "      <td>4.70</td>\n",
       "      <td>4.80</td>\n",
       "      <td>5.00</td>\n",
       "    </tr>\n",
       "    <tr>\n",
       "      <th>year of publication</th>\n",
       "      <td>100.0</td>\n",
       "      <td>2013.760000</td>\n",
       "      <td>15.130490</td>\n",
       "      <td>1947.00</td>\n",
       "      <td>2014.0000</td>\n",
       "      <td>2019.00</td>\n",
       "      <td>2023.00</td>\n",
       "      <td>2024.00</td>\n",
       "    </tr>\n",
       "  </tbody>\n",
       "</table>\n",
       "</div>"
      ],
      "text/plain": [
       "                     count         mean        std      min        25%  \\\n",
       "book price           100.0    12.708600   7.915568     2.78     6.3025   \n",
       "rating                97.0     4.689691   0.181133     4.10     4.6000   \n",
       "year of publication  100.0  2013.760000  15.130490  1947.00  2014.0000   \n",
       "\n",
       "                         50%      75%      max  \n",
       "book price             11.48    16.99    48.77  \n",
       "rating                  4.70     4.80     5.00  \n",
       "year of publication  2019.00  2023.00  2024.00  "
      ]
     },
     "execution_count": 8,
     "metadata": {},
     "output_type": "execute_result"
    }
   ],
   "source": [
    "top_books.describe().T"
   ]
  },
  {
   "cell_type": "code",
   "execution_count": 9,
   "id": "68731062-1f8b-4763-8bb1-be42d81ed657",
   "metadata": {},
   "outputs": [
    {
     "name": "stdout",
     "output_type": "stream",
     "text": [
      "<class 'pandas.core.frame.DataFrame'>\n",
      "Index: 100 entries, 1 to 100\n",
      "Data columns (total 7 columns):\n",
      " #   Column               Non-Null Count  Dtype  \n",
      "---  ------               --------------  -----  \n",
      " 0   book title           100 non-null    object \n",
      " 1   book price           100 non-null    float64\n",
      " 2   rating               97 non-null     float64\n",
      " 3   author               100 non-null    object \n",
      " 4   year of publication  100 non-null    int64  \n",
      " 5   genre                100 non-null    object \n",
      " 6   url                  100 non-null    object \n",
      "dtypes: float64(2), int64(1), object(4)\n",
      "memory usage: 6.2+ KB\n"
     ]
    }
   ],
   "source": [
    "top_books.info()"
   ]
  },
  {
   "cell_type": "code",
   "execution_count": 10,
   "id": "944105cf-e9f0-4b1b-bd19-2b57cec2b471",
   "metadata": {},
   "outputs": [
    {
     "data": {
      "text/html": [
       "<div>\n",
       "<style scoped>\n",
       "    .dataframe tbody tr th:only-of-type {\n",
       "        vertical-align: middle;\n",
       "    }\n",
       "\n",
       "    .dataframe tbody tr th {\n",
       "        vertical-align: top;\n",
       "    }\n",
       "\n",
       "    .dataframe thead th {\n",
       "        text-align: right;\n",
       "    }\n",
       "</style>\n",
       "<table border=\"1\" class=\"dataframe\">\n",
       "  <thead>\n",
       "    <tr style=\"text-align: right;\">\n",
       "      <th></th>\n",
       "      <th>reviewer rating</th>\n",
       "    </tr>\n",
       "  </thead>\n",
       "  <tbody>\n",
       "    <tr>\n",
       "      <th>count</th>\n",
       "      <td>920.000000</td>\n",
       "    </tr>\n",
       "    <tr>\n",
       "      <th>mean</th>\n",
       "      <td>4.826087</td>\n",
       "    </tr>\n",
       "    <tr>\n",
       "      <th>std</th>\n",
       "      <td>0.432839</td>\n",
       "    </tr>\n",
       "    <tr>\n",
       "      <th>min</th>\n",
       "      <td>2.000000</td>\n",
       "    </tr>\n",
       "    <tr>\n",
       "      <th>25%</th>\n",
       "      <td>5.000000</td>\n",
       "    </tr>\n",
       "    <tr>\n",
       "      <th>50%</th>\n",
       "      <td>5.000000</td>\n",
       "    </tr>\n",
       "    <tr>\n",
       "      <th>75%</th>\n",
       "      <td>5.000000</td>\n",
       "    </tr>\n",
       "    <tr>\n",
       "      <th>max</th>\n",
       "      <td>5.000000</td>\n",
       "    </tr>\n",
       "  </tbody>\n",
       "</table>\n",
       "</div>"
      ],
      "text/plain": [
       "       reviewer rating\n",
       "count       920.000000\n",
       "mean          4.826087\n",
       "std           0.432839\n",
       "min           2.000000\n",
       "25%           5.000000\n",
       "50%           5.000000\n",
       "75%           5.000000\n",
       "max           5.000000"
      ]
     },
     "execution_count": 10,
     "metadata": {},
     "output_type": "execute_result"
    }
   ],
   "source": [
    "custrew.describe()"
   ]
  },
  {
   "cell_type": "code",
   "execution_count": 11,
   "id": "a04e1ec4-6df6-471e-a30f-b1735549582b",
   "metadata": {},
   "outputs": [
    {
     "name": "stdout",
     "output_type": "stream",
     "text": [
      "<class 'pandas.core.frame.DataFrame'>\n",
      "RangeIndex: 920 entries, 0 to 919\n",
      "Data columns (total 9 columns):\n",
      " #   Column              Non-Null Count  Dtype \n",
      "---  ------              --------------  ----- \n",
      " 0   book name           920 non-null    object\n",
      " 1   review title        920 non-null    object\n",
      " 2   reviewer            920 non-null    object\n",
      " 3   reviewer rating     920 non-null    int64 \n",
      " 4   review description  920 non-null    object\n",
      " 5   is_verified         920 non-null    bool  \n",
      " 6   date                920 non-null    object\n",
      " 7   timestamp           920 non-null    object\n",
      " 8   ASIN                920 non-null    object\n",
      "dtypes: bool(1), int64(1), object(7)\n",
      "memory usage: 58.5+ KB\n"
     ]
    }
   ],
   "source": [
    "custrew.info()"
   ]
  },
  {
   "cell_type": "code",
   "execution_count": 12,
   "id": "cc9f78e9-37ef-4811-812e-aef63ec1dc0e",
   "metadata": {},
   "outputs": [
    {
     "data": {
      "text/html": [
       "<div>\n",
       "<style scoped>\n",
       "    .dataframe tbody tr th:only-of-type {\n",
       "        vertical-align: middle;\n",
       "    }\n",
       "\n",
       "    .dataframe tbody tr th {\n",
       "        vertical-align: top;\n",
       "    }\n",
       "\n",
       "    .dataframe thead th {\n",
       "        text-align: right;\n",
       "    }\n",
       "</style>\n",
       "<table border=\"1\" class=\"dataframe\">\n",
       "  <thead>\n",
       "    <tr style=\"text-align: right;\">\n",
       "      <th></th>\n",
       "      <th>book title</th>\n",
       "      <th>book price</th>\n",
       "      <th>rating</th>\n",
       "      <th>author</th>\n",
       "      <th>year of publication</th>\n",
       "      <th>genre</th>\n",
       "      <th>url</th>\n",
       "    </tr>\n",
       "    <tr>\n",
       "      <th>Rank</th>\n",
       "      <th></th>\n",
       "      <th></th>\n",
       "      <th></th>\n",
       "      <th></th>\n",
       "      <th></th>\n",
       "      <th></th>\n",
       "      <th></th>\n",
       "    </tr>\n",
       "  </thead>\n",
       "  <tbody>\n",
       "    <tr>\n",
       "      <th>1</th>\n",
       "      <td>Iron Flame (The Empyrean, 2)</td>\n",
       "      <td>18.42</td>\n",
       "      <td>4.1</td>\n",
       "      <td>Rebecca Yarros</td>\n",
       "      <td>2023</td>\n",
       "      <td>Fantasy Romance</td>\n",
       "      <td>amazon.com/Iron-Flame-Empyrean-Rebecca-Yarros/...</td>\n",
       "    </tr>\n",
       "  </tbody>\n",
       "</table>\n",
       "</div>"
      ],
      "text/plain": [
       "                        book title  book price  rating          author  \\\n",
       "Rank                                                                     \n",
       "1     Iron Flame (The Empyrean, 2)       18.42     4.1  Rebecca Yarros   \n",
       "\n",
       "      year of publication            genre  \\\n",
       "Rank                                         \n",
       "1                    2023  Fantasy Romance   \n",
       "\n",
       "                                                    url  \n",
       "Rank                                                     \n",
       "1     amazon.com/Iron-Flame-Empyrean-Rebecca-Yarros/...  "
      ]
     },
     "execution_count": 12,
     "metadata": {},
     "output_type": "execute_result"
    }
   ],
   "source": [
    "top_books.head(1)"
   ]
  },
  {
   "cell_type": "code",
   "execution_count": 64,
   "id": "4b50b65c-84f6-4869-9aa2-2bb9ea62c588",
   "metadata": {},
   "outputs": [],
   "source": [
    "# xticks düzeltilecek\n",
    "def hist_graph(data:pd.DataFrame,col:str) -> plt.hist:\n",
    "    plt.hist(data[col]);\n",
    "    plt.ylabel(\"Count\");\n",
    "    plt.xlabel(\"{}\".format(col));"
   ]
  },
  {
   "cell_type": "code",
   "execution_count": 66,
   "id": "bfff4cc9-ed32-4cdc-9364-5322710d83ec",
   "metadata": {},
   "outputs": [
    {
     "data": {
      "image/png": "[encoded data removed]",
      "text/plain": [
       "<Figure size 640x480 with 1 Axes>"
      ]
     },
     "metadata": {},
     "output_type": "display_data"
    }
   ],
   "source": [
    "hist_graph(top_books,\"book price\")"
   ]
  },
  {
   "cell_type": "code",
   "execution_count": 67,
   "id": "bef800da-df16-4eb9-8569-e2a0a5e45b36",
   "metadata": {},
   "outputs": [
    {
     "data": {
      "image/png": "[encoded data removed]",
      "text/plain": [
       "<Figure size 640x480 with 1 Axes>"
      ]
     },
     "metadata": {},
     "output_type": "display_data"
    }
   ],
   "source": [
    "hist_graph(top_books,\"rating\")"
   ]
  },
  {
   "cell_type": "code",
   "execution_count": 53,
   "id": "e7e40a73-13a9-443a-8b4e-e3b01c0343c9",
   "metadata": {},
   "outputs": [
    {
     "data": {
      "image/png": "[encoded data removed]",
      "text/plain": [
       "<Figure size 640x480 with 1 Axes>"
      ]
     },
     "metadata": {},
     "output_type": "display_data"
    }
   ],
   "source": [
    "hist_graph(\"year of publication\")"
   ]
  },
  {
   "cell_type": "code",
   "execution_count": 68,
   "id": "02a048e8-aabd-43d1-bf4f-7cae32fe379c",
   "metadata": {},
   "outputs": [],
   "source": [
    "def print_lenuniq(data:pd.DataFrame,col:str):\n",
    "    arr = data[col].unique()\n",
    "    print(\"length of {} array:\".format(col),len(arr))\n",
    "    print(\"unique array:\",arr)"
   ]
  },
  {
   "cell_type": "code",
   "execution_count": 69,
   "id": "b7d2531f-e926-4f26-8f01-202da102fb42",
   "metadata": {},
   "outputs": [
    {
     "name": "stdout",
     "output_type": "stream",
     "text": [
      "length of author array: 85\n",
      "unique array: ['Rebecca Yarros' 'Britney Spears' 'Barbra Streisand' 'Matthew Perry'\n",
      " 'Adam Wallace' 'Unknown' 'Jeff Kinney' 'David Grann' 'Anthony Doerr'\n",
      " 'Suzanne Collins' 'Elie Wiesel' 'James Clear' 'Leigh Olsen'\n",
      " 'Robert Greene' 'David Jeremiah' 'Bonnie Garmus' 'John Grisham'\n",
      " ' Wendy Loggia' 'Mo Willems' 'Wendi Silvano' 'Bessel van der Kolk'\n",
      " 'Sarah J. Maas' 'Hanya Yanagihara'\n",
      " 'Editors of Publications International' 'Sherri Duskey Rinker'\n",
      " 'Alice Hemming' 'Christopher Paolini' 'Bill Martin Jr.' 'Melissa Sweet'\n",
      " 'Don Miguel Ruiz' 'Alice Walstead' 'David Brooks' 'Eric Carle'\n",
      " 'Sandra Boynton' 'Morgan Housel' 'Taylor Jenkins Reid' 'Peter Attia'\n",
      " 'Rashid Khalidi' 'Alice Schertle' 'Margaret Wise Brown' 'Sheri Wall'\n",
      " 'Nicole LePera' ' Penguin Young Readers Licenses ('\n",
      " 'Emily Winfield Martin' 'Adam M. Grant' 'Michael Connelly' 'Lucy Score'\n",
      " ' Scholastic' 'Rose Rossner' 'Bill Martin Jr., John Archambault'\n",
      " 'Snoop Dogg' 'Keila Shaheen' 'Jordan Moore' 'Lucille Colandro'\n",
      " 'Walter Isaacson' 'Americas Test Kitchen Kids' 'Anna Dewdney'\n",
      " 'Ann Patchett' 'Abraham Verghese' 'Janet Evanovich'\n",
      " 'School Zone Publishing' 'duopress labs, Julissa Mora' 'H.D. Carlton'\n",
      " 'Colleen Hoover' 'Rick Rubin' 'Not available' 'Gabrielle Lyon'\n",
      " 'Eric Hill' 'Barbara Kingsolver' 'Noa Tishby' 'Shelby Van Pelt'\n",
      " 'J.K. Rowling' 'Matthew McConaughey' 'Ann Whitford Paul' 'Salina Yoon'\n",
      " 'Workman Publishing' 'Emily Giffin' 'Freida McFadden' 'Robert Kiyosaki'\n",
      " 'Rick Riordan' 'Jennifer Liberts' 'Deborah Schecter' 'Gary Paulsen'\n",
      " 'Peter Pauper Press' 'Craig Smith']\n"
     ]
    }
   ],
   "source": [
    "print_lenuniq(top_books,\"author\")"
   ]
  },
  {
   "cell_type": "code",
   "execution_count": 70,
   "id": "0e556c89-234d-4f86-a68d-ac967b076c9c",
   "metadata": {
    "scrolled": true
   },
   "outputs": [
    {
     "name": "stdout",
     "output_type": "stream",
     "text": [
      "length of genre array: 79\n",
      "unique array: ['Fantasy Romance' 'Memoir' 'Autobiography' 'Childrens, Fiction' 'Fantasy'\n",
      " 'Nonfiction, Politics' 'Humor, Middle Grade' 'Nonfiction, True Crime'\n",
      " 'Historical Fiction'\n",
      " 'Adventure, War, Science fiction, Romance, Action, Thriller'\n",
      " 'Self-improvement, Nonfiction' 'Childrens, Storytime,Fiction'\n",
      " 'Nonfiction'\n",
      " 'Spiritual Warfare, Biblical Studies - Prophecy, Christian Theology - Eschatology'\n",
      " 'Fiction, Historical Fiction' 'Literary, Thrillers - Suspense'\n",
      " 'Picture Books, Biography'\n",
      " 'Picture Books, Christmas, Holiday, Humor, Childrens, Fiction, Animals'\n",
      " 'Picture Books, Childrens, Holiday, Animals, Humor, Storytime, Fiction'\n",
      " 'Nonfiction, Psychology, Self Help, Mental Health, Health, Science'\n",
      " 'Fantasy, Romance, Young Adult, Fiction, New Adult, Fae'\n",
      " 'Fiction, Contemporary, LGBT, Literary Fiction, Queer, Adult, Mental Health'\n",
      " 'Fantasy, Dragons, Young Adult, Fiction, High Fantasy, Magic, Science Fiction, Fantasy'\n",
      " 'Childrens, Activities, Crafts, Games' 'Picture Book, Cars and Trucks'\n",
      " 'Childrens' 'Picture Book, Colors, Wild Animals' 'Childrens, literature'\n",
      " 'Picture Book' 'Spirituality, self-help, personal growth'\n",
      " 'Thriller, mystery, suspense' 'Picture Books, Childrens, Holiday'\n",
      " 'Finance, Nonfiction, Psychology, Business, Self Help, Money, Economics'\n",
      " 'Health, Nonfiction, Science, Self Help'\n",
      " 'History, Nonfiction, Politics, War' 'Picture Books, Childrens'\n",
      " 'Self Help, Nonfiction, Mental Health, Psychology, Personal Development, Relationships'\n",
      " 'Fantasy, Romance' 'Picture Books, Childrens, Fiction, Poetry'\n",
      " 'Picture Books, Dinosaurs, Childrens, Fiction, Storytime, Fantasy, Animals'\n",
      " 'Nonfiction, Self Help, Psychology, Business, Leadership, Personal Development'\n",
      " 'Fiction, Mystery, Thriller, Suspense, Crime, Legal Thriller'\n",
      " 'Christmas, Romance, Holiday, Contemporary Romance, Contemporary Fiction, Humor'\n",
      " 'Educational Material, Childrens'\n",
      " 'Picture Books, Animals, Childrens, Fiction, Love, Family, Humor'\n",
      " 'Fiction, Alphabet' 'Cookbooks, Cooking' 'Self Help, Psychology'\n",
      " 'Picture Books, Holiday, Childrens, Fiction, Storytime, Humor'\n",
      " 'Biography, Nonfiction, Business, Technology' 'Cookbook'\n",
      " 'Picture Books, Childrens, Holiday, Animals, Kids Fiction'\n",
      " 'Literary, Medical, Family Life - General, World Literature - India - General'\n",
      " 'Fiction, Mystery'\n",
      " 'Dark, Thriller, Fantasy, Adult, Contemporary, Mystery, Horror'\n",
      " 'Christmas, Picture Books, Holiday, Childrens, Fantasy, Humor, Fiction'\n",
      " 'Educational Material' 'Childrens, Picture Books, Animals'\n",
      " 'Thriller, Romance, Mystery, Fiction'\n",
      " 'Fantasy, Romance, Young Adult, New Adult, Fiction'\n",
      " 'Nonfiction, Art, Music, Philosophy, Self Help, Writing, Design'\n",
      " 'Health, Nonfiction, Nutrition, Fitness, Self Help, Science' 'Fiction'\n",
      " 'Nonfiction, History, Politics, Israel, Jewish, Judaism, Religion'\n",
      " 'Childrens, Young Adult, Fantasy, Science Fiction &amp; Horror'\n",
      " 'Picture Books, Childrens, Fiction'\n",
      " 'Picture Books, Childrens, Animals, Fiction, Family, Storytime, Poetry'\n",
      " 'Romance, Contemporary, Contemporary Romance, Fiction, Adult, Chick Lit'\n",
      " 'Picture Books, Childrens, Holiday, Storytime, Counting, Animals, Number'\n",
      " 'Childrens Literature'\n",
      " 'Fiction, Romance, Contemporary, Audiobook, Adult, Adult Fiction'\n",
      " 'Adventure, War, Science Fiction, Romance, Action, Thriller' 'Self Help'\n",
      " 'Childrens literature, picture book' 'Thriller, Mystery'\n",
      " 'Personal Finance' 'Fantasy, Adventure, Mythology'\n",
      " ' young adult novel, adventure novel, survival story'\n",
      " 'Childrens, Picture Books']\n"
     ]
    }
   ],
   "source": [
    "print_lenuniq(top_books,\"genre\")"
   ]
  },
  {
   "cell_type": "code",
   "execution_count": 75,
   "id": "16032ac9-dc99-4b38-ba0e-87d0bee67893",
   "metadata": {},
   "outputs": [
    {
     "data": {
      "image/png": "[encoded data removed]",
      "text/plain": [
       "<Figure size 640x480 with 1 Axes>"
      ]
     },
     "metadata": {},
     "output_type": "display_data"
    }
   ],
   "source": [
    "x = \"book price\"\n",
    "y = \"rating\"\n",
    "data = top_books\n",
    "plt.scatter(data=data,x=x,y=y);\n",
    "plt.xlabel(x);\n",
    "plt.ylabel(y);"
   ]
  },
  {
   "cell_type": "code",
   "execution_count": 83,
   "id": "a868792c-1bbd-4d46-83b9-abe69431908f",
   "metadata": {
    "scrolled": true
   },
   "outputs": [
    {
     "data": {
      "image/png": "[encoded data removed]",
      "text/plain": [
       "<Figure size 640x480 with 1 Axes>"
      ]
     },
     "metadata": {},
     "output_type": "display_data"
    }
   ],
   "source": [
    "x = \"year of publication\"\n",
    "y = \"rating\"\n",
    "data = top_books\n",
    "plt.scatter(data=data,x=x,y=y);\n",
    "plt.xlabel(x);\n",
    "plt.ylabel(y);"
   ]
  },
  {
   "cell_type": "code",
   "execution_count": 81,
   "id": "de122351-90c4-4b37-a487-9c4e50675011",
   "metadata": {},
   "outputs": [
    {
     "data": {
      "image/png": "[encoded data removed]",
      "text/plain": [
       "<Figure size 640x480 with 1 Axes>"
      ]
     },
     "metadata": {},
     "output_type": "display_data"
    }
   ],
   "source": [
    "x = \"year of publication\"\n",
    "y = \"book price\"\n",
    "data = top_books\n",
    "plt.scatter(data=data,x=x,y=y,c=\"rating\");\n",
    "plt.xlabel(x);\n",
    "plt.ylabel(y);"
   ]
  },
  {
   "cell_type": "code",
   "execution_count": 71,
   "id": "b74d9639-dad4-49f1-8935-57dde05a3f03",
   "metadata": {},
   "outputs": [
    {
     "data": {
      "text/html": [
       "<div>\n",
       "<style scoped>\n",
       "    .dataframe tbody tr th:only-of-type {\n",
       "        vertical-align: middle;\n",
       "    }\n",
       "\n",
       "    .dataframe tbody tr th {\n",
       "        vertical-align: top;\n",
       "    }\n",
       "\n",
       "    .dataframe thead th {\n",
       "        text-align: right;\n",
       "    }\n",
       "</style>\n",
       "<table border=\"1\" class=\"dataframe\">\n",
       "  <thead>\n",
       "    <tr style=\"text-align: right;\">\n",
       "      <th></th>\n",
       "      <th>book name</th>\n",
       "      <th>review title</th>\n",
       "      <th>reviewer</th>\n",
       "      <th>reviewer rating</th>\n",
       "      <th>review description</th>\n",
       "      <th>is_verified</th>\n",
       "      <th>date</th>\n",
       "      <th>timestamp</th>\n",
       "      <th>ASIN</th>\n",
       "    </tr>\n",
       "  </thead>\n",
       "  <tbody>\n",
       "    <tr>\n",
       "      <th>0</th>\n",
       "      <td>The Woman in Me</td>\n",
       "      <td>Unbelievably impressive. Her torn life on paper.</td>\n",
       "      <td>Murderess Marbie</td>\n",
       "      <td>4</td>\n",
       "      <td>I'm only a third way in. Shipped lightening fa...</td>\n",
       "      <td>True</td>\n",
       "      <td>26-10-2023</td>\n",
       "      <td>Reviewed in the United States October 26, 2023</td>\n",
       "      <td>1668009048</td>\n",
       "    </tr>\n",
       "  </tbody>\n",
       "</table>\n",
       "</div>"
      ],
      "text/plain": [
       "         book name                                      review title  \\\n",
       "0  The Woman in Me  Unbelievably impressive. Her torn life on paper.   \n",
       "\n",
       "           reviewer  reviewer rating  \\\n",
       "0  Murderess Marbie                4   \n",
       "\n",
       "                                  review description  is_verified        date  \\\n",
       "0  I'm only a third way in. Shipped lightening fa...         True  26-10-2023   \n",
       "\n",
       "                                        timestamp        ASIN  \n",
       "0  Reviewed in the United States October 26, 2023  1668009048  "
      ]
     },
     "execution_count": 71,
     "metadata": {},
     "output_type": "execute_result"
    }
   ],
   "source": [
    "custrew.head(1)"
   ]
  },
  {
   "cell_type": "code",
   "execution_count": 72,
   "id": "b566177a-f2c3-4985-b20f-e9643b0b01e3",
   "metadata": {},
   "outputs": [
    {
     "data": {
      "image/png": "[encoded data removed]",
      "text/plain": [
       "<Figure size 640x480 with 1 Axes>"
      ]
     },
     "metadata": {},
     "output_type": "display_data"
    }
   ],
   "source": [
    "hist_graph(custrew,\"reviewer rating\")"
   ]
  },
  {
   "cell_type": "code",
   "execution_count": 89,
   "id": "44e5c613-1e3f-4cbb-b7a4-092a663f2a22",
   "metadata": {},
   "outputs": [
    {
     "data": {
      "text/html": [
       "<div>\n",
       "<style scoped>\n",
       "    .dataframe tbody tr th:only-of-type {\n",
       "        vertical-align: middle;\n",
       "    }\n",
       "\n",
       "    .dataframe tbody tr th {\n",
       "        vertical-align: top;\n",
       "    }\n",
       "\n",
       "    .dataframe thead th {\n",
       "        text-align: right;\n",
       "    }\n",
       "</style>\n",
       "<table border=\"1\" class=\"dataframe\">\n",
       "  <thead>\n",
       "    <tr style=\"text-align: right;\">\n",
       "      <th></th>\n",
       "      <th>book price</th>\n",
       "      <th>rating</th>\n",
       "      <th>year of publication</th>\n",
       "    </tr>\n",
       "  </thead>\n",
       "  <tbody>\n",
       "    <tr>\n",
       "      <th>book price</th>\n",
       "      <td>1.000000</td>\n",
       "      <td>-0.285816</td>\n",
       "      <td>0.348108</td>\n",
       "    </tr>\n",
       "    <tr>\n",
       "      <th>rating</th>\n",
       "      <td>-0.285816</td>\n",
       "      <td>1.000000</td>\n",
       "      <td>-0.333890</td>\n",
       "    </tr>\n",
       "    <tr>\n",
       "      <th>year of publication</th>\n",
       "      <td>0.348108</td>\n",
       "      <td>-0.333890</td>\n",
       "      <td>1.000000</td>\n",
       "    </tr>\n",
       "  </tbody>\n",
       "</table>\n",
       "</div>"
      ],
      "text/plain": [
       "                     book price    rating  year of publication\n",
       "book price             1.000000 -0.285816             0.348108\n",
       "rating                -0.285816  1.000000            -0.333890\n",
       "year of publication    0.348108 -0.333890             1.000000"
      ]
     },
     "execution_count": 89,
     "metadata": {},
     "output_type": "execute_result"
    }
   ],
   "source": [
    "top_books.select_dtypes([int,float]).corr()"
   ]
  },
  {
   "cell_type": "code",
   "execution_count": null,
   "id": "03ddb7f3-e84a-40e3-8901-a7dd315eb0f2",
   "metadata": {},
   "outputs": [],
   "source": []
  }
 ],
 "metadata": {
  "kernelspec": {
   "display_name": "Python 3 (ipykernel)",
   "language": "python",
   "name": "python3"
  },
  "language_info": {
   "codemirror_mode": {
    "name": "ipython",
    "version": 3
   },
   "file_extension": ".py",
   "mimetype": "text/x-python",
   "name": "python",
   "nbconvert_exporter": "python",
   "pygments_lexer": "ipython3",
   "version": "3.12.0"
  }
 },
 "nbformat": 4,
 "nbformat_minor": 5
}

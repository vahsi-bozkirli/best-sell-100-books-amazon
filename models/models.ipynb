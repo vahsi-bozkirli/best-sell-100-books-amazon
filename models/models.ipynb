{
 "cells": [
  {
   "cell_type": "code",
   "execution_count": 42,
   "id": "8dcc53f3-0efe-4fef-80c0-139ca405a075",
   "metadata": {},
   "outputs": [],
   "source": [
    "import sklearn\n",
    "import numpy as np\n",
    "import pandas as pd\n",
    "import model_data\n",
    "import matplotlib.pyplot as plt\n",
    "import pandasql as psql\n",
    "from warnings import filterwarnings\n",
    "\n",
    "from sklearn.model_selection import train_test_split\n",
    "from sklearn.preprocessing import Normalizer,MinMaxScaler\n",
    "from sklearn.feature_selection import RFE"
   ]
  },
  {
   "cell_type": "code",
   "execution_count": 25,
   "id": "acf1a911-e8cf-4bd4-b026-f3103340213d",
   "metadata": {},
   "outputs": [],
   "source": [
    "filterwarnings(\"ignore\")"
   ]
  },
  {
   "cell_type": "code",
   "execution_count": 26,
   "id": "1480f678-8a54-41b2-ae58-494ead9fcace",
   "metadata": {},
   "outputs": [],
   "source": [
    "top_books,custrew = model_data.read_data(\"../data/ready for model\")"
   ]
  },
  {
   "cell_type": "code",
   "execution_count": 27,
   "id": "88b06318-53e3-40fb-8119-f512667ace39",
   "metadata": {},
   "outputs": [
    {
     "data": {
      "text/plain": [
       "Index(['Rank', 'book title', 'book price', 'rating', 'author',\n",
       "       'year of publication', 'genre', 'url', 'first_name', 'last_name',\n",
       "       'count genre', 'link', 'book', 'dp', 'id', 'ref', 'slug'],\n",
       "      dtype='object')"
      ]
     },
     "execution_count": 27,
     "metadata": {},
     "output_type": "execute_result"
    }
   ],
   "source": [
    "top_books.columns"
   ]
  },
  {
   "cell_type": "code",
   "execution_count": 28,
   "id": "fb1ad050-1540-43dd-b760-d49a5c69d1d2",
   "metadata": {},
   "outputs": [],
   "source": [
    "top_books = top_books[[\"id\", 'book title', 'book price', 'rating', 'author',\n",
    "       'year of publication','count genre']]"
   ]
  },
  {
   "cell_type": "code",
   "execution_count": 29,
   "id": "b30b7800-873c-413a-aacd-57670b81870a",
   "metadata": {},
   "outputs": [],
   "source": [
    "custrew = custrew[[\"ASIN\",\"book name\",\"reviewer\",\"reviewer rating\",\"title length\",\"day\",\n",
    "         \"month\",\"season\",\"quarter\",\"title sentiment result\",\"desc sentiment result\",\n",
    "         'rating 2', 'rating 3', 'rating 4', 'rating 5']]"
   ]
  },
  {
   "cell_type": "code",
   "execution_count": 30,
   "id": "90757545-43d1-425b-8d78-6d980f5e356d",
   "metadata": {},
   "outputs": [
    {
     "data": {
      "text/html": [
       "<div>\n",
       "<style scoped>\n",
       "    .dataframe tbody tr th:only-of-type {\n",
       "        vertical-align: middle;\n",
       "    }\n",
       "\n",
       "    .dataframe tbody tr th {\n",
       "        vertical-align: top;\n",
       "    }\n",
       "\n",
       "    .dataframe thead th {\n",
       "        text-align: right;\n",
       "    }\n",
       "</style>\n",
       "<table border=\"1\" class=\"dataframe\">\n",
       "  <thead>\n",
       "    <tr style=\"text-align: right;\">\n",
       "      <th></th>\n",
       "      <th>id</th>\n",
       "      <th>book title</th>\n",
       "      <th>book price</th>\n",
       "      <th>rating</th>\n",
       "      <th>author</th>\n",
       "      <th>year of publication</th>\n",
       "      <th>count genre</th>\n",
       "    </tr>\n",
       "  </thead>\n",
       "  <tbody>\n",
       "    <tr>\n",
       "      <th>0</th>\n",
       "      <td>1649374178</td>\n",
       "      <td>iron flame (the empyrean, 2)</td>\n",
       "      <td>18.42</td>\n",
       "      <td>4.1</td>\n",
       "      <td>rebecca yarros</td>\n",
       "      <td>2023</td>\n",
       "      <td>2</td>\n",
       "    </tr>\n",
       "  </tbody>\n",
       "</table>\n",
       "</div>"
      ],
      "text/plain": [
       "           id                    book title  book price  rating  \\\n",
       "0  1649374178  iron flame (the empyrean, 2)       18.42     4.1   \n",
       "\n",
       "           author  year of publication  count genre  \n",
       "0  rebecca yarros                 2023            2  "
      ]
     },
     "execution_count": 30,
     "metadata": {},
     "output_type": "execute_result"
    }
   ],
   "source": [
    "top_books.head(1)"
   ]
  },
  {
   "cell_type": "code",
   "execution_count": 31,
   "id": "851ab95a-9449-4154-adae-6cd60d67da92",
   "metadata": {},
   "outputs": [
    {
     "data": {
      "text/html": [
       "<div>\n",
       "<style scoped>\n",
       "    .dataframe tbody tr th:only-of-type {\n",
       "        vertical-align: middle;\n",
       "    }\n",
       "\n",
       "    .dataframe tbody tr th {\n",
       "        vertical-align: top;\n",
       "    }\n",
       "\n",
       "    .dataframe thead th {\n",
       "        text-align: right;\n",
       "    }\n",
       "</style>\n",
       "<table border=\"1\" class=\"dataframe\">\n",
       "  <thead>\n",
       "    <tr style=\"text-align: right;\">\n",
       "      <th></th>\n",
       "      <th>ASIN</th>\n",
       "      <th>book name</th>\n",
       "      <th>reviewer</th>\n",
       "      <th>reviewer rating</th>\n",
       "      <th>title length</th>\n",
       "      <th>day</th>\n",
       "      <th>month</th>\n",
       "      <th>season</th>\n",
       "      <th>quarter</th>\n",
       "      <th>title sentiment result</th>\n",
       "      <th>desc sentiment result</th>\n",
       "      <th>rating 2</th>\n",
       "      <th>rating 3</th>\n",
       "      <th>rating 4</th>\n",
       "      <th>rating 5</th>\n",
       "    </tr>\n",
       "  </thead>\n",
       "  <tbody>\n",
       "    <tr>\n",
       "      <th>0</th>\n",
       "      <td>1668009048</td>\n",
       "      <td>the woman in me</td>\n",
       "      <td>murderess marbie</td>\n",
       "      <td>4</td>\n",
       "      <td>7</td>\n",
       "      <td>26</td>\n",
       "      <td>10</td>\n",
       "      <td>Autumn</td>\n",
       "      <td>4</td>\n",
       "      <td>Pozitif</td>\n",
       "      <td>Pozitif</td>\n",
       "      <td>0</td>\n",
       "      <td>0</td>\n",
       "      <td>1</td>\n",
       "      <td>0</td>\n",
       "    </tr>\n",
       "  </tbody>\n",
       "</table>\n",
       "</div>"
      ],
      "text/plain": [
       "         ASIN        book name          reviewer  reviewer rating  \\\n",
       "0  1668009048  the woman in me  murderess marbie                4   \n",
       "\n",
       "   title length  day  month  season  quarter title sentiment result  \\\n",
       "0             7   26     10  Autumn        4                Pozitif   \n",
       "\n",
       "  desc sentiment result  rating 2  rating 3  rating 4  rating 5  \n",
       "0               Pozitif         0         0         1         0  "
      ]
     },
     "execution_count": 31,
     "metadata": {},
     "output_type": "execute_result"
    }
   ],
   "source": [
    "custrew.head(1)"
   ]
  },
  {
   "cell_type": "code",
   "execution_count": 34,
   "id": "4eccf67e-c101-431c-97c5-918ab0bbc1f8",
   "metadata": {},
   "outputs": [],
   "source": [
    "data = psql.sqldf(\"select * from top_books t right join custrew c on t.id=c.ASIN\")"
   ]
  },
  {
   "cell_type": "code",
   "execution_count": 36,
   "id": "1aca6ad1-9d73-4f72-9231-093e4446b020",
   "metadata": {},
   "outputs": [],
   "source": [
    "data = data.dropna(axis=0)"
   ]
  },
  {
   "cell_type": "code",
   "execution_count": 40,
   "id": "cada05e3-4736-48c2-8e7e-ab239134ddb4",
   "metadata": {},
   "outputs": [],
   "source": [
    "data = data.drop([\"book name\",\"id\"],axis=1)"
   ]
  },
  {
   "cell_type": "code",
   "execution_count": 41,
   "id": "1881dd7d-3910-4474-825b-b5de1f59c964",
   "metadata": {},
   "outputs": [
    {
     "data": {
      "text/html": [
       "<div>\n",
       "<style scoped>\n",
       "    .dataframe tbody tr th:only-of-type {\n",
       "        vertical-align: middle;\n",
       "    }\n",
       "\n",
       "    .dataframe tbody tr th {\n",
       "        vertical-align: top;\n",
       "    }\n",
       "\n",
       "    .dataframe thead th {\n",
       "        text-align: right;\n",
       "    }\n",
       "</style>\n",
       "<table border=\"1\" class=\"dataframe\">\n",
       "  <thead>\n",
       "    <tr style=\"text-align: right;\">\n",
       "      <th></th>\n",
       "      <th>book title</th>\n",
       "      <th>book price</th>\n",
       "      <th>rating</th>\n",
       "      <th>author</th>\n",
       "      <th>year of publication</th>\n",
       "      <th>count genre</th>\n",
       "      <th>ASIN</th>\n",
       "      <th>reviewer</th>\n",
       "      <th>reviewer rating</th>\n",
       "      <th>title length</th>\n",
       "      <th>day</th>\n",
       "      <th>month</th>\n",
       "      <th>season</th>\n",
       "      <th>quarter</th>\n",
       "      <th>title sentiment result</th>\n",
       "      <th>desc sentiment result</th>\n",
       "      <th>rating 2</th>\n",
       "      <th>rating 3</th>\n",
       "      <th>rating 4</th>\n",
       "      <th>rating 5</th>\n",
       "    </tr>\n",
       "  </thead>\n",
       "  <tbody>\n",
       "    <tr>\n",
       "      <th>0</th>\n",
       "      <td>the woman in me</td>\n",
       "      <td>20.93</td>\n",
       "      <td>4.5</td>\n",
       "      <td>britney spears</td>\n",
       "      <td>2023.0</td>\n",
       "      <td>1.0</td>\n",
       "      <td>1668009048</td>\n",
       "      <td>murderess marbie</td>\n",
       "      <td>4</td>\n",
       "      <td>7</td>\n",
       "      <td>26</td>\n",
       "      <td>10</td>\n",
       "      <td>Autumn</td>\n",
       "      <td>4</td>\n",
       "      <td>Pozitif</td>\n",
       "      <td>Pozitif</td>\n",
       "      <td>0</td>\n",
       "      <td>0</td>\n",
       "      <td>1</td>\n",
       "      <td>0</td>\n",
       "    </tr>\n",
       "  </tbody>\n",
       "</table>\n",
       "</div>"
      ],
      "text/plain": [
       "        book title  book price  rating          author  year of publication  \\\n",
       "0  the woman in me       20.93     4.5  britney spears               2023.0   \n",
       "\n",
       "   count genre        ASIN          reviewer  reviewer rating  title length  \\\n",
       "0          1.0  1668009048  murderess marbie                4             7   \n",
       "\n",
       "   day  month  season  quarter title sentiment result desc sentiment result  \\\n",
       "0   26     10  Autumn        4                Pozitif               Pozitif   \n",
       "\n",
       "   rating 2  rating 3  rating 4  rating 5  \n",
       "0         0         0         1         0  "
      ]
     },
     "execution_count": 41,
     "metadata": {},
     "output_type": "execute_result"
    }
   ],
   "source": [
    "data.head(1)"
   ]
  },
  {
   "cell_type": "markdown",
   "id": "48c0547b-f69f-4e8c-8dca-dc043cccf695",
   "metadata": {},
   "source": [
    "# Rating Prediction "
   ]
  },
  {
   "cell_type": "code",
   "execution_count": null,
   "id": "508a8914-9553-47a5-8ea9-29676ba19a2e",
   "metadata": {},
   "outputs": [],
   "source": []
  }
 ],
 "metadata": {
  "kernelspec": {
   "display_name": "Python 3 (ipykernel)",
   "language": "python",
   "name": "python3"
  },
  "language_info": {
   "codemirror_mode": {
    "name": "ipython",
    "version": 3
   },
   "file_extension": ".py",
   "mimetype": "text/x-python",
   "name": "python",
   "nbconvert_exporter": "python",
   "pygments_lexer": "ipython3",
   "version": "3.12.0"
  }
 },
 "nbformat": 4,
 "nbformat_minor": 5
}
